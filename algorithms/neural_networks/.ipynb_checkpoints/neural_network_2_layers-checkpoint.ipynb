{
 "cells": [
  {
   "cell_type": "code",
   "execution_count": 1,
   "metadata": {
    "collapsed": true
   },
   "outputs": [],
   "source": [
    "import numpy as np\n",
    "import matplotlib.pyplot as plt\n",
    "import pandas as pd\n",
    "from scipy.optimize import fmin_bfgs\n",
    "%matplotlib inline"
   ]
  },
  {
   "cell_type": "markdown",
   "metadata": {},
   "source": [
    "# Load and visualize the data"
   ]
  },
  {
   "cell_type": "code",
   "execution_count": 2,
   "metadata": {
    "collapsed": false
   },
   "outputs": [
    {
     "name": "stdout",
     "output_type": "stream",
     "text": [
      "(1797, 64)\n",
      "10\n"
     ]
    }
   ],
   "source": [
    "from sklearn.datasets import load_digits\n",
    "digits = load_digits()\n",
    "print(digits.data.shape)\n",
    "print(digits.target_names.size)"
   ]
  },
  {
   "cell_type": "code",
   "execution_count": 3,
   "metadata": {
    "collapsed": false
   },
   "outputs": [
    {
     "data": {
      "text/plain": [
       "<matplotlib.figure.Figure at 0x118d17128>"
      ]
     },
     "metadata": {},
     "output_type": "display_data"
    },
    {
     "data": {
      "image/png": "[encoded data removed]",
      "text/plain": [
       "<matplotlib.figure.Figure at 0x11928a080>"
      ]
     },
     "metadata": {},
     "output_type": "display_data"
    }
   ],
   "source": [
    "import pylab as pl \n",
    "pl.gray() \n",
    "pl.matshow(digits.images[1]) \n",
    "pl.show() "
   ]
  },
  {
   "cell_type": "markdown",
   "metadata": {},
   "source": [
    "# Define functions"
   ]
  },
  {
   "cell_type": "code",
   "execution_count": 4,
   "metadata": {
    "collapsed": true
   },
   "outputs": [],
   "source": [
    "def sigmoid(z):\n",
    "    return 1 / (1 + np.exp(-z))"
   ]
  },
  {
   "cell_type": "code",
   "execution_count": 5,
   "metadata": {
    "collapsed": true
   },
   "outputs": [],
   "source": [
    "def sigmoidGradient(z):\n",
    "    return sigmoid(z) * (1 - sigmoid(z))"
   ]
  },
  {
   "cell_type": "code",
   "execution_count": 6,
   "metadata": {
    "collapsed": true
   },
   "outputs": [],
   "source": [
    "def ht(X, theta):\n",
    "    return sigmoid(X.dot(theta))"
   ]
  },
  {
   "cell_type": "code",
   "execution_count": 7,
   "metadata": {
    "collapsed": true
   },
   "outputs": [],
   "source": [
    "def addBiasUnit(X):\n",
    "    return np.hstack((np.ones((X.shape[0], 1)), X))"
   ]
  },
  {
   "cell_type": "code",
   "execution_count": 8,
   "metadata": {
    "collapsed": true
   },
   "outputs": [],
   "source": [
    "def normalizeFeature(X): \n",
    "    mu = np.mean(X,axis=0)\n",
    "    sigma = np.std(X,axis=0)\n",
    "    \n",
    "    X_norm = np.divide(X - mu, sigma)\n",
    "    \n",
    "    return (X_norm, mu, sigma)"
   ]
  },
  {
   "cell_type": "code",
   "execution_count": 9,
   "metadata": {
    "collapsed": true
   },
   "outputs": [],
   "source": [
    "def filterOneLabel(label, y):\n",
    "    yi = np.zeros(y.shape)\n",
    "    \n",
    "    for i in range(yi.shape[0]):\n",
    "        if(y[i] == label):\n",
    "            yi[i] = 1\n",
    "    \n",
    "    return yi"
   ]
  },
  {
   "cell_type": "code",
   "execution_count": 10,
   "metadata": {
    "collapsed": true
   },
   "outputs": [],
   "source": [
    "def costFunction(nn_params, X, y, input_layer_size, hidden_layer_size, num_labels, lamda):\n",
    "    m = X.shape[0]\n",
    "    \n",
    "    limit_between_thetas = hidden_layer_size * (input_layer_size + 1)\n",
    "    t1 = np.copy(nn_params[:limit_between_thetas])\n",
    "    t2 = np.copy(nn_params[limit_between_thetas:])\n",
    "    \n",
    "    theta1 = t1.reshape((hidden_layer_size, input_layer_size + 1))\n",
    "    theta2 = t2.reshape((num_labels, hidden_layer_size + 1))\n",
    "    \n",
    "    #do the forward propagation first\n",
    "    #add the bias unit\n",
    "    a1 = addBiasUnit(X)\n",
    "    \n",
    "    #calculate the output of the second layer\n",
    "    z2 = a1.dot(theta1.T)\n",
    "    a2 = sigmoid(z2)\n",
    "    a2 = addBiasUnit(a2)\n",
    "    \n",
    "    #calculate the output of the last layer\n",
    "    z3 = a2.dot(theta2.T)\n",
    "    a3 = sigmoid(z3)\n",
    "    h = a3\n",
    "    \n",
    "    #calculate the cost\n",
    "    J = 0\n",
    "    \n",
    "    for i in range(num_labels):\n",
    "        yi = filterOneLabel(i, y)\n",
    "        hi = h[:, i]\n",
    "\n",
    "        J = J + (1 / m) * np.sum(-yi * np.log(hi) - (1 - yi) * np.log(1 - hi))\n",
    "        \n",
    "    reg_param = (lamda / (2 * m)) * (np.sum(np.sum(theta1[:, 1:] ** 2)) + np.sum(np.sum(theta2[:, 1:] ** 2)))\n",
    "    \n",
    "    # add the regularization\n",
    "    J = J + reg_param\n",
    "    \n",
    "    #calculate the gradients through backpropagation\n",
    "    \n",
    "    #calculate the error of the output layer\n",
    "    d3 = np.zeros((num_labels, m))\n",
    "    for i in range(num_labels):\n",
    "        yi = filterOneLabel(i, y)\n",
    "        hi = h[:, i]\n",
    "        \n",
    "        d3[i,:] = hi - yi\n",
    "    \n",
    "    #calculate the error of the hidden layer\n",
    "    d2_temp = theta2.T.dot(d3)\n",
    "    d2 = d2_temp[1:,:].T * sigmoidGradient(z2)\n",
    "    d2 = d2.T\n",
    "    \n",
    "    theta2_grad = (1 / m) * d3.dot(a2)\n",
    "    theta1_grad = (1 / m) * d2.dot(a1)\n",
    "    \n",
    "    #apply regularization to the gradients\n",
    "    \n",
    "    #regularization for the first layer\n",
    "    reg1 = (lamda / m) * theta1\n",
    "    \n",
    "    #don't apply regularization for the bias unit\n",
    "    reg1[:, 0] = 0\n",
    "    theta1_grad = theta1_grad + reg1\n",
    "    \n",
    "    #regularization for the second layer\n",
    "    reg2 = (lamda / m) * theta2\n",
    "    \n",
    "    #don't apply regularization for the bias unit\n",
    "    reg2[:, 0] = 0\n",
    "    theta2_grad = theta2_grad + reg2\n",
    "    \n",
    "    grad = np.concatenate((theta1_grad.flatten(),theta2_grad.flatten()), axis=0)\n",
    "    \n",
    "    return J"
   ]
  },
  {
   "cell_type": "code",
   "execution_count": 18,
   "metadata": {
    "collapsed": true
   },
   "outputs": [],
   "source": [
    "def initializeWeights(l_in, l_out):\n",
    "    w = np.zeros((l_out, 1 + l_in))\n",
    "    epsilon_init = np.sqrt(6) / np.sqrt(l_in + l_out)\n",
    "    w = np.random.rand(l_out, l_in + 1) * 2 * epsilon_init - epsilon_init\n",
    "    return w"
   ]
  },
  {
   "cell_type": "code",
   "execution_count": 26,
   "metadata": {
    "collapsed": true
   },
   "outputs": [],
   "source": [
    "def predict(theta1, theta2, X):\n",
    "    m = X.shape[0]\n",
    "    num_labels = theta2.shape[0]\n",
    "    p = np.zeros((X.shape[0], 1))\n",
    "    \n",
    "    X_bias = addBiasUnit(X)\n",
    "    h1 = ht(X_bias, theta1)\n",
    "    h1_bias = addBiasUnit(h1)\n",
    "    h2 = ht(h1_bias, theta2)\n",
    "    \n",
    "    y_pred = h2\n",
    "    y_max = np.amax(y_pred, axis=1)\n",
    "    y_indices = np.zeros((m, 1))\n",
    "    \n",
    "    for i in range(m):\n",
    "        idx = np.where(y_pred[i, :] == y_max[i])\n",
    "        y_indices[i] = idx[0][0] \n",
    "        \n",
    "    return y_indices "
   ]
  },
  {
   "cell_type": "markdown",
   "metadata": {},
   "source": [
    "## Calculate the model"
   ]
  },
  {
   "cell_type": "code",
   "execution_count": 12,
   "metadata": {
    "collapsed": false
   },
   "outputs": [
    {
     "name": "stdout",
     "output_type": "stream",
     "text": [
      "1885\n"
     ]
    }
   ],
   "source": [
    "input_layer_size = digits.data.shape[1]\n",
    "hidden_layer_size = 25\n",
    "num_labels = digits.target_names.size\n",
    "\n",
    "initial_theta1 = initializeWeights(input_layer_size, hidden_layer_size)\n",
    "initial_theta2 = initializeWeights(hidden_layer_size, num_labels)\n",
    "initial_nn_params = np.concatenate((initial_theta1.flatten(), initial_theta2.flatten()), axis=0)\n",
    "\n",
    "print(initial_nn_params.size)"
   ]
  },
  {
   "cell_type": "code",
   "execution_count": 13,
   "metadata": {
    "collapsed": false
   },
   "outputs": [],
   "source": [
    "#split the dataset into training set and validation set\n",
    "from sklearn.cross_validation import train_test_split \n",
    "X_train, X_test, y_train, y_test = train_test_split(digits.data[:100,:], digits.target[:100], test_size=0.25, random_state=7)\n",
    "\n",
    "X = X_train\n",
    "y = y_train\n",
    "\n",
    "lamda = 0.1"
   ]
  },
  {
   "cell_type": "code",
   "execution_count": 14,
   "metadata": {
    "collapsed": false
   },
   "outputs": [
    {
     "name": "stdout",
     "output_type": "stream",
     "text": [
      "[-0.1184998  -0.13231383  0.03140003 ...,  0.07241477  0.07288439\n",
      " -0.1984073 ]\n"
     ]
    }
   ],
   "source": [
    "nn_params = fmin_bfgs(costFunction, initial_nn_params, args=(X, y, input_layer_size, hidden_layer_size, num_labels, lamda), \\\n",
    "                      maxiter=50, disp=False)\n",
    "\n",
    "print(nn_params)"
   ]
  },
  {
   "cell_type": "code",
   "execution_count": 24,
   "metadata": {
    "collapsed": false
   },
   "outputs": [
    {
     "name": "stdout",
     "output_type": "stream",
     "text": [
      "(1885,)\n",
      "theta1= (65, 25)\n",
      "theta2= (26, 10)\n"
     ]
    }
   ],
   "source": [
    "print(nn_params.shape)\n",
    "limit_between_thetas = hidden_layer_size * (input_layer_size + 1)\n",
    "t1 = nn_params[:limit_between_thetas]\n",
    "t2 = nn_params[limit_between_thetas:]\n",
    "\n",
    "theta1 = t1.reshape((hidden_layer_size, input_layer_size + 1))\n",
    "theta2 = t2.reshape((num_labels, hidden_layer_size + 1))\n",
    "\n",
    "theta1 = theta1.T\n",
    "theta2 = theta2.T"
   ]
  },
  {
   "cell_type": "markdown",
   "metadata": {},
   "source": [
    "## Test the model by making predictions on the test set and measure accuracy"
   ]
  },
  {
   "cell_type": "code",
   "execution_count": 35,
   "metadata": {
    "collapsed": false
   },
   "outputs": [
    {
     "name": "stdout",
     "output_type": "stream",
     "text": [
      "training set F1 score:  1.0\n",
      "training set accuracy score:  1.0\n"
     ]
    }
   ],
   "source": [
    "y_train_pred = predict(theta1, theta2, X_train)\n",
    "\n",
    "from sklearn.metrics import f1_score\n",
    "f1 = f1_score(y_train, y_train_pred, average=\"weighted\")\n",
    "print(\"training set F1 score: \", f1)\n",
    "\n",
    "from sklearn.metrics import accuracy_score\n",
    "accuracy = accuracy_score(y_train, y_train_pred)\n",
    "print(\"training set accuracy score: \", accuracy)"
   ]
  },
  {
   "cell_type": "code",
   "execution_count": 37,
   "metadata": {
    "collapsed": false
   },
   "outputs": [
    {
     "data": {
      "text/plain": [
       "<matplotlib.figure.Figure at 0x12a176588>"
      ]
     },
     "metadata": {},
     "output_type": "display_data"
    },
    {
     "data": {
      "image/png": "[encoded data removed]",
      "text/plain": [
       "<matplotlib.figure.Figure at 0x12a176748>"
      ]
     },
     "metadata": {},
     "output_type": "display_data"
    }
   ],
   "source": [
    "#test a single predicted value; it should be a 4\n",
    "d = X_train[0].reshape((8,8))\n",
    "pl.gray()\n",
    "pl.matshow(d) \n",
    "pl.show() "
   ]
  },
  {
   "cell_type": "code",
   "execution_count": 36,
   "metadata": {
    "collapsed": false
   },
   "outputs": [
    {
     "name": "stdout",
     "output_type": "stream",
     "text": [
      "test set F1 score:  0.922666666667\n",
      "test set accuracy score:  0.92\n"
     ]
    }
   ],
   "source": [
    "y_test_pred = predict(theta1, theta2, X_test)\n",
    "\n",
    "from sklearn.metrics import f1_score\n",
    "f1 = f1_score(y_test, y_test_pred, average=\"weighted\")\n",
    "print(\"test set F1 score: \", f1)\n",
    "\n",
    "from sklearn.metrics import accuracy_score\n",
    "accuracy = accuracy_score(y_test, y_test_pred)\n",
    "print(\"test set accuracy score: \", accuracy)"
   ]
  },
  {
   "cell_type": "code",
   "execution_count": null,
   "metadata": {
    "collapsed": true
   },
   "outputs": [],
   "source": []
  }
 ],
 "metadata": {
  "kernelspec": {
   "display_name": "Python 3",
   "language": "python",
   "name": "python3"
  },
  "language_info": {
   "codemirror_mode": {
    "name": "ipython",
    "version": 3
   },
   "file_extension": ".py",
   "mimetype": "text/x-python",
   "name": "python",
   "nbconvert_exporter": "python",
   "pygments_lexer": "ipython3",
   "version": "3.5.1"
  }
 },
 "nbformat": 4,
 "nbformat_minor": 0
}
