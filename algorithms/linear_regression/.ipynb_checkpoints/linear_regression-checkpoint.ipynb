{
 "cells": [
  {
   "cell_type": "code",
   "execution_count": 338,
   "metadata": {
    "collapsed": true
   },
   "outputs": [],
   "source": [
    "import numpy as np\n",
    "from numpy import random as rand\n",
    "%matplotlib inline\n",
    "import matplotlib.pyplot as plt"
   ]
  },
  {
   "cell_type": "code",
   "execution_count": 339,
   "metadata": {
    "collapsed": true
   },
   "outputs": [],
   "source": [
    "def computeCost(X, y, theta):\n",
    "    m = X.shape[0]\n",
    "    J = (1 / 2 * m) * sum(sum(((X.dot(theta) - y)**2)))\n",
    "    return J"
   ]
  },
  {
   "cell_type": "code",
   "execution_count": 340,
   "metadata": {
    "collapsed": true
   },
   "outputs": [],
   "source": [
    "def normalizeFeature(X): \n",
    "    samples, features = X.shape\n",
    "    \n",
    "    mu_vec = np.mean(X, axis=0)\n",
    "    sigma_vec = np.std(X, axis=0)\n",
    "    \n",
    "    mu = np.reshape(mu_vec, (1, features))\n",
    "    sigma = np.reshape(sigma_vec, (1, features))\n",
    "    \n",
    "    mu_temp = np.ones((samples, 1)).dot(mu)\n",
    "    sigma_temp = np.ones((samples, 1)).dot(sigma)\n",
    "    \n",
    "    return (X - mu_temp) / sigma_temp, mu, sigma"
   ]
  },
  {
   "cell_type": "code",
   "execution_count": 341,
   "metadata": {
    "collapsed": false
   },
   "outputs": [],
   "source": [
    "def gradientDescent(X, y, theta, alpha, num_iters):\n",
    "    samples, features = X.shape\n",
    "    \n",
    "    J_history = np.zeros(num_iters)\n",
    "\n",
    "    for i in range(num_iters):\n",
    "        theta = theta - (alpha / samples) * sum((X.dot(theta) - y) * X)\n",
    "        \n",
    "        J_history[i] = computeCost(X, y, theta)\n",
    "        \n",
    "    \n",
    "    return J_history, theta"
   ]
  },
  {
   "cell_type": "code",
   "execution_count": 342,
   "metadata": {
    "collapsed": true
   },
   "outputs": [],
   "source": [
    "alpha = 0.1\n",
    "num_iters = 50\n",
    "samples = 100\n",
    "features = 1"
   ]
  },
  {
   "cell_type": "code",
   "execution_count": 343,
   "metadata": {
    "collapsed": false
   },
   "outputs": [],
   "source": [
    "data = np.genfromtxt(\"stockholm_td_adj.dat\")"
   ]
  },
  {
   "cell_type": "code",
   "execution_count": 344,
   "metadata": {
    "collapsed": false
   },
   "outputs": [],
   "source": [
    "X = data[0:samples,0] + data[0:samples,1] / 12.0 + data[0:samples,2] / 365 \n",
    "y = data[0:samples, 5]"
   ]
  },
  {
   "cell_type": "code",
   "execution_count": 345,
   "metadata": {
    "collapsed": false
   },
   "outputs": [],
   "source": [
    "X = np.reshape(X, (samples, 1))\n",
    "y = np.reshape(y, (samples, 1))"
   ]
  },
  {
   "cell_type": "code",
   "execution_count": 346,
   "metadata": {
    "collapsed": true
   },
   "outputs": [],
   "source": [
    "theta = np.zeros((features + 1, 1))"
   ]
  },
  {
   "cell_type": "code",
   "execution_count": 347,
   "metadata": {
    "collapsed": false
   },
   "outputs": [],
   "source": [
    "X_norm, mu, sigma = normalizeFeature(X)\n",
    "X_norm = np.hstack((np.ones((samples, 1)), X_norm))"
   ]
  },
  {
   "cell_type": "code",
   "execution_count": 348,
   "metadata": {
    "collapsed": false
   },
   "outputs": [
    {
     "name": "stdout",
     "output_type": "stream",
     "text": [
      "(100, 2)\n",
      "(100, 1)\n",
      "(2, 1)\n"
     ]
    }
   ],
   "source": [
    "J_history, theta = gradientDescent(X_norm, y, theta, alpha, num_iters)"
   ]
  },
  {
   "cell_type": "code",
   "execution_count": 349,
   "metadata": {
    "collapsed": false
   },
   "outputs": [
    {
     "data": {
      "text/plain": [
       "array([ 611206.15321153,  609266.80085234,  612224.89962691,\n",
       "        618697.03640128,  627607.9362788 ,  638127.38736083,\n",
       "        649619.60270039,  661602.61109224,  673715.73045977,\n",
       "        685693.55146058,  697345.16135304,  708537.58275955,\n",
       "        719182.59975308,  729226.30360668,  738640.81980804,\n",
       "        747417.7824031 ,  755563.20612985,  763093.47497081,\n",
       "        770032.22079204,  776407.91016128])"
      ]
     },
     "execution_count": 349,
     "metadata": {},
     "output_type": "execute_result"
    }
   ],
   "source": [
    "J_history"
   ]
  },
  {
   "cell_type": "code",
   "execution_count": 351,
   "metadata": {
    "collapsed": false
   },
   "outputs": [
    {
     "data": {
      "image/png": "[encoded data removed]",
      "text/plain": [
       "<matplotlib.figure.Figure at 0x10cd23438>"
      ]
     },
     "metadata": {},
     "output_type": "display_data"
    }
   ],
   "source": [
    "fig, ax = plt.subplots(figsize=(18,8))\n",
    "ax.plot(np.arange(J_history.size), J_history)\n",
    "ax.axis('tight')\n",
    "ax.set_title('Iterations')\n",
    "ax.set_xlabel('iterations')\n",
    "ax.set_ylabel('cost');"
   ]
  },
  {
   "cell_type": "code",
   "execution_count": null,
   "metadata": {
    "collapsed": true
   },
   "outputs": [],
   "source": []
  },
  {
   "cell_type": "code",
   "execution_count": null,
   "metadata": {
    "collapsed": true
   },
   "outputs": [],
   "source": []
  }
 ],
 "metadata": {
  "kernelspec": {
   "display_name": "Python 3",
   "language": "python",
   "name": "python3"
  },
  "language_info": {
   "codemirror_mode": {
    "name": "ipython",
    "version": 3
   },
   "file_extension": ".py",
   "mimetype": "text/x-python",
   "name": "python",
   "nbconvert_exporter": "python",
   "pygments_lexer": "ipython3",
   "version": "3.5.1"
  }
 },
 "nbformat": 4,
 "nbformat_minor": 0
}
